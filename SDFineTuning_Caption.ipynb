{
 "cells": [
  {
   "cell_type": "code",
   "execution_count": null,
   "metadata": {},
   "outputs": [],
   "source": [
    "from datasets import load_dataset\n",
    "\n",
    "# Load your dataset\n",
    "dataset = load_dataset(\"imagefolder\", data_dir=\"dataset/train\")"
   ]
  },
  {
   "cell_type": "code",
   "execution_count": null,
   "metadata": {},
   "outputs": [],
   "source": []
  },
  {
   "cell_type": "code",
   "execution_count": null,
   "metadata": {},
   "outputs": [],
   "source": [
    "from diffusers import StableDiffusionInpaintPipeline\n",
    "from accelerate import Accelerator\n",
    "from torch.utils.data import DataLoader\n",
    "from transformers import AdamW\n",
    "\n",
    "# Load the inpainting pipeline\n",
    "pipe = StableDiffusionInpaintPipeline.from_pretrained(\"runwayml/stable-diffusion-inpainting\")\n",
    "\n",
    "# Freeze VAE weights\n",
    "for param in pipe.vae.parameters():\n",
    "    param.requires_grad = False\n",
    "\n",
    "# Fine-tune only the U-Net and text encoder\n",
    "for param in pipe.unet.parameters():\n",
    "    param.requires_grad = True\n",
    "for param in pipe.text_encoder.parameters():  # Optional, if you want to fine-tune text\n",
    "    param.requires_grad = True\n",
    "\n",
    "pipe.to(\"cuda\")\n",
    "\n",
    "# Define data loader\n",
    "train_dataloader = DataLoader(dataset, batch_size=4, shuffle=True)\n",
    "\n",
    "# Optimizer\n",
    "optimizer = AdamW(pipe.unet.parameters(), lr=5e-5)\n",
    "\n",
    "# Accelerator for distributed training\n",
    "accelerator = Accelerator()\n",
    "pipe, optimizer, train_dataloader = accelerator.prepare(pipe, optimizer, train_dataloader)\n",
    "\n",
    "# Training loop\n",
    "for epoch in range(10):  # Adjust based on dataset size\n",
    "    pipe.train()\n",
    "    for batch in train_dataloader:\n",
    "        masked_images = batch[\"masked_images\"].to(\"cuda\")\n",
    "        full_images = batch[\"full_images\"].to(\"cuda\")\n",
    "        prompts = batch[\"text\"]  # Add text input from the dataset\n",
    "\n",
    "        # Forward pass with text conditioning\n",
    "        outputs = pipe(\n",
    "            prompt=prompts,  # Pass the text descriptions\n",
    "            image=masked_images,\n",
    "            mask_image=masked_images,  # Masked region input\n",
    "        )\n",
    "\n",
    "        # Calculate loss (you may need to adapt based on outputs)\n",
    "        loss = outputs[\"loss\"]\n",
    "\n",
    "        # Backward pass and optimization\n",
    "        accelerator.backward(loss)\n",
    "        optimizer.step()\n",
    "        optimizer.zero_grad()\n",
    "\n",
    "    print(f\"Epoch {epoch+1} completed\")\n"
   ]
  },
  {
   "cell_type": "code",
   "execution_count": null,
   "metadata": {},
   "outputs": [],
   "source": []
  },
  {
   "cell_type": "code",
   "execution_count": null,
   "metadata": {},
   "outputs": [],
   "source": []
  }
 ],
 "metadata": {
  "kernelspec": {
   "display_name": "venv",
   "language": "python",
   "name": "python3"
  },
  "language_info": {
   "name": "python",
   "version": "3.12.6"
  }
 },
 "nbformat": 4,
 "nbformat_minor": 2
}
