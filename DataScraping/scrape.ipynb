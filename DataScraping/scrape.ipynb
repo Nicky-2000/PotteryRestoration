{
 "cells": [
  {
   "cell_type": "code",
   "execution_count": 9,
   "metadata": {},
   "outputs": [],
   "source": [
    "from scrape_metadata import scrape_metadata"
   ]
  },
  {
   "cell_type": "code",
   "execution_count": 6,
   "metadata": {},
   "outputs": [
    {
     "name": "stdout",
     "output_type": "stream",
     "text": [
      "Failed to fetch catalog: 404 Client Error: Not Found for url: https://www.carc.ox.ac.uk/xdb/ASP/CARCOpenData.xml\n"
     ]
    }
   ],
   "source": [
    "\n",
    "api_catalog_url = \"https://www.carc.ox.ac.uk/xdb/ASP/CARCOpenData.xml\"\n",
    "metadata_file = \"data.csv\"\n",
    "scrape_metadata(api_catalog_url, metadata_file)"
   ]
  },
  {
   "cell_type": "code",
   "execution_count": 1,
   "metadata": {},
   "outputs": [],
   "source": [
    "from multiprocess_scrape_images import multiprocess_scrape_images\n",
    "from multiprocessing import cpu_count"
   ]
  },
  {
   "cell_type": "code",
   "execution_count": null,
   "metadata": {},
   "outputs": [
    {
     "name": "stdout",
     "output_type": "stream",
     "text": [
      "Using 9 processes\n",
      "Getting data from: data.csv\n",
      "Saving images to: images-nicky-test\n",
      "Saving new metadata to: aggregrate_data.csv\n",
      "Failed to parse XML from http://www.beazley.ox.ac.uk/record/490C9E84-730D-4900-A0A3-6F17CAD74AFD/xml: not well-formed (invalid token): line 96, column 23\n",
      "Failed to parse XML from http://www.beazley.ox.ac.uk/record/553A1D01-E8AB-445D-B1F5-B7A513791AB3/xml: syntax error: line 1, column 0\n",
      "Failed to parse XML from http://www.beazley.ox.ac.uk/record/6F7AF4D0-24EB-428B-B1F2-26E26D3909B4/xml: not well-formed (invalid token): line 34, column 23\n"
     ]
    }
   ],
   "source": [
    "num_processes = cpu_count() - 2\n",
    "print(f\"Using {num_processes} processes\")\n",
    "multiprocess_scrape_images(\"data.csv\", \"./images-nicky-test\", \"aggregrate_data.csv\", \"errors.txt\", num_processes=num_processes)"
   ]
  },
  {
   "cell_type": "code",
   "execution_count": null,
   "metadata": {},
   "outputs": [],
   "source": [
    "https://www.carc.ox.ac.uk/XDB/ASP/searchOpen.asp?Search=amphora/csv"
   ]
  },
  {
   "cell_type": "code",
   "execution_count": null,
   "metadata": {},
   "outputs": [],
   "source": []
  },
  {
   "cell_type": "code",
   "execution_count": null,
   "metadata": {},
   "outputs": [],
   "source": []
  }
 ],
 "metadata": {
  "kernelspec": {
   "display_name": "venv",
   "language": "python",
   "name": "python3"
  },
  "language_info": {
   "codemirror_mode": {
    "name": "ipython",
    "version": 3
   },
   "file_extension": ".py",
   "mimetype": "text/x-python",
   "name": "python",
   "nbconvert_exporter": "python",
   "pygments_lexer": "ipython3",
   "version": "3.12.6"
  }
 },
 "nbformat": 4,
 "nbformat_minor": 2
}
