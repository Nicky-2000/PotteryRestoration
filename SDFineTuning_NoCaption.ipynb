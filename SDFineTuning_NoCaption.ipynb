{
 "cells": [
  {
   "cell_type": "code",
   "execution_count": 1,
   "metadata": {},
   "outputs": [
    {
     "ename": "ModuleNotFoundError",
     "evalue": "No module named 'datasets'",
     "output_type": "error",
     "traceback": [
      "\u001b[0;31m---------------------------------------------------------------------------\u001b[0m",
      "\u001b[0;31mModuleNotFoundError\u001b[0m                       Traceback (most recent call last)",
      "Cell \u001b[0;32mIn[1], line 1\u001b[0m\n\u001b[0;32m----> 1\u001b[0m \u001b[38;5;28;01mfrom\u001b[39;00m \u001b[38;5;21;01mdatasets\u001b[39;00m \u001b[38;5;28;01mimport\u001b[39;00m load_dataset\n\u001b[1;32m      3\u001b[0m \u001b[38;5;66;03m# Load your dataset\u001b[39;00m\n\u001b[1;32m      4\u001b[0m dataset \u001b[38;5;241m=\u001b[39m load_dataset(\u001b[38;5;124m\"\u001b[39m\u001b[38;5;124mimagefolder\u001b[39m\u001b[38;5;124m\"\u001b[39m, data_dir\u001b[38;5;241m=\u001b[39m\u001b[38;5;124m\"\u001b[39m\u001b[38;5;124mdataset/train\u001b[39m\u001b[38;5;124m\"\u001b[39m)\n",
      "\u001b[0;31mModuleNotFoundError\u001b[0m: No module named 'datasets'"
     ]
    }
   ],
   "source": [
    "from datasets import load_dataset\n",
    "\n",
    "# Load your dataset\n",
    "dataset = load_dataset(\"imagefolder\", data_dir=\"dataset/train\")"
   ]
  },
  {
   "cell_type": "code",
   "execution_count": null,
   "metadata": {},
   "outputs": [],
   "source": [
    "from diffusers import StableDiffusionInpaintPipeline\n",
    "from accelerate import Accelerator\n",
    "from torch.utils.data import DataLoader\n",
    "from transformers import AdamW\n",
    "\n",
    "# Load the inpainting pipeline\n",
    "pipe = StableDiffusionInpaintPipeline.from_pretrained(\"runwayml/stable-diffusion-inpainting\")\n",
    "\n",
    "# Freeze VAE weights\n",
    "for param in pipe.vae.parameters():\n",
    "    param.requires_grad = False\n",
    "\n",
    "# Freeze Text Encoder weights (if using text conditioning)\n",
    "for param in pipe.text_encoder.parameters():\n",
    "    param.requires_grad = False\n",
    "\n",
    "# Fine-tune only the U-Net\n",
    "for param in pipe.unet.parameters():\n",
    "    param.requires_grad = True\n",
    "\n",
    "pipe.to(\"cuda\")\n",
    "\n",
    "# Define data loader\n",
    "train_dataloader = DataLoader(dataset, batch_size=4, shuffle=True)\n",
    "\n",
    "# Optimizer\n",
    "optimizer = AdamW(pipe.unet.parameters(), lr=5e-5)\n",
    "\n",
    "# Accelerator for distributed training\n",
    "accelerator = Accelerator()\n",
    "pipe, optimizer, train_dataloader = accelerator.prepare(pipe, optimizer, train_dataloader)\n",
    "\n",
    "# Training loop\n",
    "for epoch in range(10):  # Adjust based on dataset size\n",
    "    pipe.train()\n",
    "    for batch in train_dataloader:\n",
    "        masked_images = batch[\"masked_images\"].to(\"cuda\")\n",
    "        full_images = batch[\"full_images\"].to(\"cuda\")\n",
    "\n",
    "        # Forward pass\n",
    "        loss = pipe(masked_images, full_images)[\"loss\"]\n",
    "\n",
    "        # Backward pass and optimization\n",
    "        accelerator.backward(loss)\n",
    "        optimizer.step()\n",
    "        optimizer.zero_grad()\n",
    "\n",
    "    print(f\"Epoch {epoch+1} completed\")\n"
   ]
  }
 ],
 "metadata": {
  "kernelspec": {
   "display_name": "venv",
   "language": "python",
   "name": "python3"
  },
  "language_info": {
   "codemirror_mode": {
    "name": "ipython",
    "version": 3
   },
   "file_extension": ".py",
   "mimetype": "text/x-python",
   "name": "python",
   "nbconvert_exporter": "python",
   "pygments_lexer": "ipython3",
   "version": "3.12.6"
  }
 },
 "nbformat": 4,
 "nbformat_minor": 2
}
